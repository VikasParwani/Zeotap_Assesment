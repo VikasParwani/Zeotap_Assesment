import pandas as pd
from sklearn.metrics.pairwise import cosine_similarity
from sklearn.preprocessing import StandardScaler

customers = pd.read_csv("Customers.csv")
products = pd.read_csv("Products.csv")
transactions = pd.read_csv("Transactions.csv")

# Aggregate transaction data
customer_features = transactions.groupby("CustomerID").agg(
    total_spent=("TotalValue", "sum"),
    total_transactions=("TransactionID", "count"),
    avg_transaction_value=("TotalValue", "mean"),
    most_purchased_product=("ProductID", lambda x: x.mode()[0])
).reset_index()

customer_profiles = pd.merge(customers, customer_features, on="CustomerID", how="left")

features = customer_profiles[["Region", "total_spent", "total_transactions", "avg_transaction_value"]]

features = pd.get_dummies(features, columns=["Region"], drop_first=True)

features.fillna(0, inplace=True)

scaler = StandardScaler()
features_scaled = scaler.fit_transform(features)

similarity_matrix = cosine_similarity(features_scaled)

similarity_df = pd.DataFrame(similarity_matrix, index=customer_profiles["CustomerID"], columns=customer_profiles["CustomerID"])

lookalike_results = {}

for customer_id in customer_profiles["CustomerID"][:20]:  # Limit to first 20 customers
    similar_customers = similarity_df[customer_id].sort_values(ascending=False).iloc[1:4]
    lookalike_results[customer_id] = list(zip(similar_customers.index, similar_customers.values))

lookalike_df = pd.DataFrame([
    {"cust_id": cust_id, "similar_customers": str(similar_customers)}
    for cust_id, similar_customers in lookalike_results.items()
])
lookalike_df.to_csv("Vikas_Parwani_Lookalike.csv", index=False)

print("Lookalike results saved to 'Vikas_Parwani_Lookalike.csv'.")
