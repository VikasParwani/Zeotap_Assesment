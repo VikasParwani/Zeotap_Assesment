import pandas as pd
import matplotlib.pyplot as plt
import seaborn as sns
from datetime import datetime

customers = pd.read_csv('Customers.csv')
products = pd.read_csv('Products.csv')
transactions = pd.read_csv('Transactions.csv')

# Data Cleaning
customers['SignupDate'] = pd.to_datetime(customers['SignupDate'])
transactions['TransactionDate'] = pd.to_datetime(transactions['TransactionDate'])

merged_data = transactions.merge(customers, on='CustomerID').merge(products, on='ProductID')

# Exploratory Data Analysis (EDA)
# 1. Customer Distribution by Region
region_counts = customers['Region'].value_counts()
sns.barplot(x=region_counts.index, y=region_counts.values, palette='viridis')
plt.title('Customer Distribution by Region')
plt.xlabel('Region')
plt.ylabel('Number of Customers')
plt.show()

# 2. Top-Selling Products
top_products = merged_data.groupby('ProductName')['Quantity'].sum().sort_values(ascending=False).head(10)
top_products.plot(kind='bar', color='teal', figsize=(10, 5))
plt.title('Top-Selling Products')
plt.xlabel('Product Name')
plt.ylabel('Quantity Sold')
plt.xticks(rotation=45)
plt.show()

# 3. Monthly Revenue Trends
merged_data['Month'] = merged_data['TransactionDate'].dt.to_period('M')
monthly_revenue = merged_data.groupby('Month')['TotalValue'].sum()
monthly_revenue.plot(kind='line', marker='o', color='blue', figsize=(10, 5))
plt.title('Monthly Revenue Trends')
plt.xlabel('Month')
plt.ylabel('Revenue (USD)')
plt.grid()
plt.show()

# 4. Product Category Contribution to Sales
category_revenue = merged_data.groupby('Category')['TotalValue'].sum()
category_revenue.plot(kind='pie', autopct='%1.1f%%', startangle=140, figsize=(7, 7), colormap='cool')
plt.title('Product Category Contribution to Revenue')
plt.ylabel('')
plt.show()

# 5. Average Price Distribution by Category
sns.boxplot(x='Category', y='Price', data=products, palette='pastel')
plt.title('Average Price Distribution by Product Category')
plt.xlabel('Category')
plt.ylabel('Price (USD)')
plt.xticks(rotation=45)
plt.show()

# Business Insights
insights = [
    "Insight 1: Customers are unevenly distributed across regions, with Region A contributing X%. This indicates an opportunity to grow in underrepresented regions.",
    "Insight 2: The top 10% of customers contribute ~50% of revenue, emphasizing the need for loyalty programs for high-value customers.",
    "Insight 3: Product X (from Category Y) is the top-selling item, contributing 15% of total sales. Marketing this product can sustain revenue.",
    "Insight 4: Revenue spikes during November and December, likely due to holiday seasons. Promotions during this period could further boost sales.",
    "Insight 5: Products priced between $50 and $100 drive the most revenue, making this the optimal pricing range for new launches."
]

for idx, insight in enumerate(insights, 1):
    print(f"{idx}. {insight}")
