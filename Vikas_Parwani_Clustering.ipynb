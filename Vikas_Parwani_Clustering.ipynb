import pandas as pd
import matplotlib.pyplot as plt
import seaborn as sns
from sklearn.preprocessing import StandardScaler
from sklearn.cluster import KMeans
from sklearn.metrics import davies_bouldin_score
from sklearn.decomposition import PCA

customers = pd.read_csv('Customers.csv')
products = pd.read_csv('Products.csv')
transactions = pd.read_csv('Transactions.csv')

# Data Cleaning
customers['SignupDate'] = pd.to_datetime(customers['SignupDate'])
transactions['TransactionDate'] = pd.to_datetime(transactions['TransactionDate'])

merged_data = transactions.merge(customers, on='CustomerID').merge(products, on='ProductID')

# Aggregate Data for Clustering
customer_summary = merged_data.groupby('CustomerID').agg({
    'TotalValue': 'sum',  # Total revenue per customer
    'TransactionID': 'count',  # Number of transactions per customer
    'Quantity': 'sum'  # Total products purchased
}).reset_index()
customer_summary.rename(columns={'TotalValue': 'Revenue', 'TransactionID': 'TransactionCount'}, inplace=True)

scaler = StandardScaler()
customer_summary_scaled = scaler.fit_transform(customer_summary.drop('CustomerID', axis=1))

db_scores = []
for k in range(2, 11):
    kmeans = KMeans(n_clusters=k, random_state=42)
    labels = kmeans.fit_predict(customer_summary_scaled)
    db_scores.append(davies_bouldin_score(customer_summary_scaled, labels))

db_plot_range = range(2, 11)
plt.plot(db_plot_range, db_scores, marker='o')
plt.title('Davies-Bouldin Index for Different k')
plt.xlabel('Number of Clusters (k)')
plt.ylabel('DB Index')
plt.show()

optimal_k = db_scores.index(min(db_scores)) + 2  # Add 2 since range starts at 2
print(f'Optimal Number of Clusters: {optimal_k}')

kmeans = KMeans(n_clusters=optimal_k, random_state=42)
customer_summary['Cluster'] = kmeans.fit_predict(customer_summary_scaled)

db_index = davies_bouldin_score(customer_summary_scaled, customer_summary['Cluster'])
print(f'Davies-Bouldin Index: {db_index}')


pca = PCA(n_components=2)
pca_result = pca.fit_transform(customer_summary_scaled)
customer_summary['PCA1'] = pca_result[:, 0]
customer_summary['PCA2'] = pca_result[:, 1]

plt.figure(figsize=(10, 6))
sns.scatterplot(data=customer_summary, x='PCA1', y='PCA2', hue='Cluster', palette='viridis', s=50)
plt.title('Customer Segmentation Clusters (PCA)')
plt.xlabel('PCA1')
plt.ylabel('PCA2')
plt.show()

customer_summary[['CustomerID', 'Cluster']].to_csv('Vikas_Parwani_Clusters.csv', index=False)
